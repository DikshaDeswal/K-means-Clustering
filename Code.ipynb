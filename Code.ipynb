{
 "cells": [
  {
   "cell_type": "markdown",
   "id": "360d6de2",
   "metadata": {},
   "source": [
    "# Student Clusttering "
   ]
  },
  {
   "cell_type": "code",
   "execution_count": 1,
   "id": "405199eb",
   "metadata": {},
   "outputs": [],
   "source": [
    "#Importing dependencies for model\n",
    "import pandas as pd\n",
    "import numpy as np\n",
    "import matplotlib.pyplot as plt\n",
    "%matplotlib inline\n",
    "from sklearn.metrics import silhouette_score\n",
    "import seaborn as sns"
   ]
  },
  {
   "cell_type": "markdown",
   "id": "75c49cdf",
   "metadata": {},
   "source": [
    "# Understanding Data "
   ]
  },
  {
   "cell_type": "code",
   "execution_count": 2,
   "id": "23b32169",
   "metadata": {},
   "outputs": [],
   "source": [
    "df=pd.read_csv('data01.csv')"
   ]
  },
  {
   "cell_type": "code",
   "execution_count": 3,
   "id": "13d9b7b4",
   "metadata": {},
   "outputs": [
    {
     "data": {
      "text/html": [
       "<div>\n",
       "<style scoped>\n",
       "    .dataframe tbody tr th:only-of-type {\n",
       "        vertical-align: middle;\n",
       "    }\n",
       "\n",
       "    .dataframe tbody tr th {\n",
       "        vertical-align: top;\n",
       "    }\n",
       "\n",
       "    .dataframe thead th {\n",
       "        text-align: right;\n",
       "    }\n",
       "</style>\n",
       "<table border=\"1\" class=\"dataframe\">\n",
       "  <thead>\n",
       "    <tr style=\"text-align: right;\">\n",
       "      <th></th>\n",
       "      <th>RollNo</th>\n",
       "      <th>math_score</th>\n",
       "      <th>reading_score</th>\n",
       "      <th>writing_score</th>\n",
       "    </tr>\n",
       "  </thead>\n",
       "  <tbody>\n",
       "    <tr>\n",
       "      <th>0</th>\n",
       "      <td>1</td>\n",
       "      <td>72</td>\n",
       "      <td>72</td>\n",
       "      <td>74</td>\n",
       "    </tr>\n",
       "    <tr>\n",
       "      <th>1</th>\n",
       "      <td>2</td>\n",
       "      <td>69</td>\n",
       "      <td>90</td>\n",
       "      <td>88</td>\n",
       "    </tr>\n",
       "    <tr>\n",
       "      <th>2</th>\n",
       "      <td>3</td>\n",
       "      <td>90</td>\n",
       "      <td>95</td>\n",
       "      <td>93</td>\n",
       "    </tr>\n",
       "    <tr>\n",
       "      <th>3</th>\n",
       "      <td>4</td>\n",
       "      <td>47</td>\n",
       "      <td>57</td>\n",
       "      <td>44</td>\n",
       "    </tr>\n",
       "    <tr>\n",
       "      <th>4</th>\n",
       "      <td>5</td>\n",
       "      <td>76</td>\n",
       "      <td>78</td>\n",
       "      <td>75</td>\n",
       "    </tr>\n",
       "  </tbody>\n",
       "</table>\n",
       "</div>"
      ],
      "text/plain": [
       "   RollNo  math_score  reading_score  writing_score\n",
       "0       1          72             72             74\n",
       "1       2          69             90             88\n",
       "2       3          90             95             93\n",
       "3       4          47             57             44\n",
       "4       5          76             78             75"
      ]
     },
     "execution_count": 3,
     "metadata": {},
     "output_type": "execute_result"
    }
   ],
   "source": [
    "df.head()  "
   ]
  },
  {
   "cell_type": "markdown",
   "id": "f62ca63e",
   "metadata": {},
   "source": [
    "The dataset contains four coulmns. The fisrt column refers to student identity and rest three columns are students score in maths, reading and writing. "
   ]
  },
  {
   "cell_type": "code",
   "execution_count": 4,
   "id": "0b2348fd",
   "metadata": {},
   "outputs": [
    {
     "data": {
      "text/plain": [
       "(1000, 4)"
      ]
     },
     "execution_count": 4,
     "metadata": {},
     "output_type": "execute_result"
    }
   ],
   "source": [
    "df.shape"
   ]
  },
  {
   "cell_type": "code",
   "execution_count": 5,
   "id": "995afa61",
   "metadata": {},
   "outputs": [
    {
     "data": {
      "text/html": [
       "<div>\n",
       "<style scoped>\n",
       "    .dataframe tbody tr th:only-of-type {\n",
       "        vertical-align: middle;\n",
       "    }\n",
       "\n",
       "    .dataframe tbody tr th {\n",
       "        vertical-align: top;\n",
       "    }\n",
       "\n",
       "    .dataframe thead th {\n",
       "        text-align: right;\n",
       "    }\n",
       "</style>\n",
       "<table border=\"1\" class=\"dataframe\">\n",
       "  <thead>\n",
       "    <tr style=\"text-align: right;\">\n",
       "      <th></th>\n",
       "      <th>RollNo</th>\n",
       "      <th>math_score</th>\n",
       "      <th>reading_score</th>\n",
       "      <th>writing_score</th>\n",
       "    </tr>\n",
       "  </thead>\n",
       "  <tbody>\n",
       "    <tr>\n",
       "      <th>count</th>\n",
       "      <td>1000.000000</td>\n",
       "      <td>1000.000000</td>\n",
       "      <td>1000.000000</td>\n",
       "      <td>1000.000000</td>\n",
       "    </tr>\n",
       "    <tr>\n",
       "      <th>mean</th>\n",
       "      <td>500.500000</td>\n",
       "      <td>66.199000</td>\n",
       "      <td>69.285000</td>\n",
       "      <td>68.112000</td>\n",
       "    </tr>\n",
       "    <tr>\n",
       "      <th>std</th>\n",
       "      <td>288.819436</td>\n",
       "      <td>15.371196</td>\n",
       "      <td>14.957925</td>\n",
       "      <td>15.244929</td>\n",
       "    </tr>\n",
       "    <tr>\n",
       "      <th>min</th>\n",
       "      <td>1.000000</td>\n",
       "      <td>0.000000</td>\n",
       "      <td>17.000000</td>\n",
       "      <td>10.000000</td>\n",
       "    </tr>\n",
       "    <tr>\n",
       "      <th>25%</th>\n",
       "      <td>250.750000</td>\n",
       "      <td>57.000000</td>\n",
       "      <td>59.000000</td>\n",
       "      <td>58.000000</td>\n",
       "    </tr>\n",
       "    <tr>\n",
       "      <th>50%</th>\n",
       "      <td>500.500000</td>\n",
       "      <td>66.000000</td>\n",
       "      <td>70.000000</td>\n",
       "      <td>69.000000</td>\n",
       "    </tr>\n",
       "    <tr>\n",
       "      <th>75%</th>\n",
       "      <td>750.250000</td>\n",
       "      <td>77.000000</td>\n",
       "      <td>79.250000</td>\n",
       "      <td>79.000000</td>\n",
       "    </tr>\n",
       "    <tr>\n",
       "      <th>max</th>\n",
       "      <td>1000.000000</td>\n",
       "      <td>150.000000</td>\n",
       "      <td>150.000000</td>\n",
       "      <td>110.000000</td>\n",
       "    </tr>\n",
       "  </tbody>\n",
       "</table>\n",
       "</div>"
      ],
      "text/plain": [
       "            RollNo   math_score  reading_score  writing_score\n",
       "count  1000.000000  1000.000000    1000.000000    1000.000000\n",
       "mean    500.500000    66.199000      69.285000      68.112000\n",
       "std     288.819436    15.371196      14.957925      15.244929\n",
       "min       1.000000     0.000000      17.000000      10.000000\n",
       "25%     250.750000    57.000000      59.000000      58.000000\n",
       "50%     500.500000    66.000000      70.000000      69.000000\n",
       "75%     750.250000    77.000000      79.250000      79.000000\n",
       "max    1000.000000   150.000000     150.000000     110.000000"
      ]
     },
     "execution_count": 5,
     "metadata": {},
     "output_type": "execute_result"
    }
   ],
   "source": [
    "df.describe()"
   ]
  },
  {
   "cell_type": "markdown",
   "id": "ad4855b1",
   "metadata": {},
   "source": [
    "The dataset consists score of Thousand students; that is a very small dataset. The accuracy of machine learning algorithm increases with the increase in size of dataset. Maximum score of student in each class subject is 100. Twenty five, fifty and seventy five percentile score of students in each subject is described. Mean score of class can als be determined from the above table."
   ]
  },
  {
   "cell_type": "code",
   "execution_count": 6,
   "id": "86a8830c",
   "metadata": {},
   "outputs": [
    {
     "name": "stdout",
     "output_type": "stream",
     "text": [
      "<class 'pandas.core.frame.DataFrame'>\n",
      "RangeIndex: 1000 entries, 0 to 999\n",
      "Data columns (total 4 columns):\n",
      " #   Column         Non-Null Count  Dtype\n",
      "---  ------         --------------  -----\n",
      " 0   RollNo         1000 non-null   int64\n",
      " 1   math_score     1000 non-null   int64\n",
      " 2   reading_score  1000 non-null   int64\n",
      " 3   writing_score  1000 non-null   int64\n",
      "dtypes: int64(4)\n",
      "memory usage: 31.4 KB\n"
     ]
    }
   ],
   "source": [
    "df.info()"
   ]
  },
  {
   "cell_type": "code",
   "execution_count": 7,
   "id": "7df07d6f",
   "metadata": {},
   "outputs": [
    {
     "data": {
      "text/plain": [
       "RollNo           0\n",
       "math_score       0\n",
       "reading_score    0\n",
       "writing_score    0\n",
       "dtype: int64"
      ]
     },
     "execution_count": 7,
     "metadata": {},
     "output_type": "execute_result"
    }
   ],
   "source": [
    "df.isnull().sum()"
   ]
  },
  {
   "cell_type": "markdown",
   "id": "baeb8ef2",
   "metadata": {},
   "source": [
    "The above dataset doesn't contain any null or NA value."
   ]
  },
  {
   "cell_type": "markdown",
   "id": "f663fde2",
   "metadata": {},
   "source": [
    "# Visualising Variables"
   ]
  },
  {
   "cell_type": "markdown",
   "id": "a22231a8",
   "metadata": {},
   "source": [
    "Using matplotlib and seaborn libraries the data columns and variables can be visualised. The plots predicts data distribution in scale. "
   ]
  },
  {
   "cell_type": "code",
   "execution_count": 8,
   "id": "ad8a38ed",
   "metadata": {},
   "outputs": [
    {
     "name": "stderr",
     "output_type": "stream",
     "text": [
      "C:\\ProgramData\\Anaconda3\\lib\\site-packages\\seaborn\\distributions.py:2557: FutureWarning: `distplot` is a deprecated function and will be removed in a future version. Please adapt your code to use either `displot` (a figure-level function with similar flexibility) or `histplot` (an axes-level function for histograms).\n",
      "  warnings.warn(msg, FutureWarning)\n"
     ]
    },
    {
     "data": {
      "image/png": "[encoded data removed]",
      "text/plain": [
       "<Figure size 432x288 with 1 Axes>"
      ]
     },
     "metadata": {
      "needs_background": "light"
     },
     "output_type": "display_data"
    }
   ],
   "source": [
    "sns.distplot(df['math_score'], color='g', kde=False)\n",
    "plt.title('Distribution of students maths score')\n",
    "plt.ylabel('Number of students')\n",
    "plt.xlabel('maths score')\n",
    "plt.savefig('math_score.png')"
   ]
  },
  {
   "cell_type": "code",
   "execution_count": 9,
   "id": "f4441506",
   "metadata": {},
   "outputs": [
    {
     "data": {
      "text/plain": [
       "-0.12119712913509888"
      ]
     },
     "execution_count": 9,
     "metadata": {},
     "output_type": "execute_result"
    }
   ],
   "source": [
    "df['math_score'].skew()"
   ]
  },
  {
   "cell_type": "markdown",
   "id": "f3ad35ba",
   "metadata": {},
   "source": [
    "The dataset shows math scores are negatively skewed. The marks of majority of students lies between 60-70 from the fact that the graph has peakedness. Similarly, the reading and writing score of students can be visualised. "
   ]
  },
  {
   "cell_type": "code",
   "execution_count": 10,
   "id": "6c58dd86",
   "metadata": {},
   "outputs": [
    {
     "data": {
      "image/png": "[encoded data removed]",
      "text/plain": [
       "<Figure size 432x288 with 1 Axes>"
      ]
     },
     "metadata": {
      "needs_background": "light"
     },
     "output_type": "display_data"
    }
   ],
   "source": [
    "sns.distplot(df['reading_score'], color='b', kde=False)\n",
    "plt.title('Distribution of students reading score')\n",
    "plt.ylabel('Number of students')\n",
    "plt.xlabel('reading score')\n",
    "plt.savefig('reading_score.png')"
   ]
  },
  {
   "cell_type": "code",
   "execution_count": 11,
   "id": "c5345cde",
   "metadata": {},
   "outputs": [
    {
     "data": {
      "text/plain": [
       "-0.008302990780161142"
      ]
     },
     "execution_count": 11,
     "metadata": {},
     "output_type": "execute_result"
    }
   ],
   "source": [
    "df['reading_score'].skew()"
   ]
  },
  {
   "cell_type": "code",
   "execution_count": 12,
   "id": "d383d724",
   "metadata": {},
   "outputs": [
    {
     "data": {
      "image/png": "[encoded data removed]",
      "text/plain": [
       "<Figure size 432x288 with 1 Axes>"
      ]
     },
     "metadata": {
      "needs_background": "light"
     },
     "output_type": "display_data"
    }
   ],
   "source": [
    "sns.distplot(df['writing_score'], color='y', kde=False)\n",
    "plt.title('Distribution of students writing score')\n",
    "plt.ylabel('Number of students')\n",
    "plt.xlabel('writing score')\n",
    "plt.savefig('writing score.png')"
   ]
  },
  {
   "cell_type": "code",
   "execution_count": 13,
   "id": "650f835c",
   "metadata": {},
   "outputs": [
    {
     "data": {
      "text/plain": [
       "-0.2760188570789652"
      ]
     },
     "execution_count": 13,
     "metadata": {},
     "output_type": "execute_result"
    }
   ],
   "source": [
    "df['writing_score'].skew()"
   ]
  },
  {
   "cell_type": "markdown",
   "id": "a52257af",
   "metadata": {},
   "source": [
    "# Detecting outliers in dataset"
   ]
  },
  {
   "cell_type": "code",
   "execution_count": 14,
   "id": "f235bf41",
   "metadata": {},
   "outputs": [
    {
     "data": {
      "text/plain": [
       "Text(0, 0.5, 'Maths Score')"
      ]
     },
     "execution_count": 14,
     "metadata": {},
     "output_type": "execute_result"
    },
    {
     "data": {
      "image/png": "[encoded data removed]",
      "text/plain": [
       "<Figure size 432x288 with 1 Axes>"
      ]
     },
     "metadata": {
      "needs_background": "light"
     },
     "output_type": "display_data"
    }
   ],
   "source": [
    "upperlimit=np.percentile(df.math_score.values, 100)\n",
    "df['math_score'].iloc[df['math_score']>upperlimit]=upperlimit\n",
    "plt.scatter(range(df.shape[0]), df['math_score'].values, color='blue')\n",
    "plt.title('Distribution of math score')\n",
    "plt.xlabel('Number of students')\n",
    "plt.ylabel('Maths Score')"
   ]
  },
  {
   "cell_type": "markdown",
   "id": "4213b154",
   "metadata": {},
   "source": [
    "Score of students in each subject are out of hundred. Thus, no student can get marks beyond hundred. Any student with marks greater than 100 are invalid entry and are considered as outliers. Above scatter plot represents score of individual student. There is one student with marks greater than hundred. Similary the outliers in reading and writing score can be detected."
   ]
  },
  {
   "cell_type": "code",
   "execution_count": 15,
   "id": "142e4f7d",
   "metadata": {},
   "outputs": [
    {
     "name": "stderr",
     "output_type": "stream",
     "text": [
      "C:\\ProgramData\\Anaconda3\\lib\\site-packages\\pandas\\core\\indexing.py:1637: SettingWithCopyWarning: \n",
      "A value is trying to be set on a copy of a slice from a DataFrame\n",
      "\n",
      "See the caveats in the documentation: https://pandas.pydata.org/pandas-docs/stable/user_guide/indexing.html#returning-a-view-versus-a-copy\n",
      "  self._setitem_single_block(indexer, value, name)\n"
     ]
    },
    {
     "data": {
      "text/plain": [
       "Text(0, 0.5, 'Reading Score')"
      ]
     },
     "execution_count": 15,
     "metadata": {},
     "output_type": "execute_result"
    },
    {
     "data": {
      "image/png": "[encoded data removed]",
      "text/plain": [
       "<Figure size 432x288 with 1 Axes>"
      ]
     },
     "metadata": {
      "needs_background": "light"
     },
     "output_type": "display_data"
    }
   ],
   "source": [
    "upperlimit=np.percentile(df.reading_score.values, 100)\n",
    "df['reading_score'].iloc[df['reading_score']>upperlimit]=upperlimit\n",
    "plt.scatter(range(df.shape[0]), df['reading_score'].values, color='orange')\n",
    "plt.title('Distribution of reading score')\n",
    "plt.xlabel('Number of students')\n",
    "plt.ylabel('Reading Score')"
   ]
  },
  {
   "cell_type": "code",
   "execution_count": 16,
   "id": "99fd5f2b",
   "metadata": {},
   "outputs": [
    {
     "name": "stderr",
     "output_type": "stream",
     "text": [
      "C:\\ProgramData\\Anaconda3\\lib\\site-packages\\pandas\\core\\indexing.py:1637: SettingWithCopyWarning: \n",
      "A value is trying to be set on a copy of a slice from a DataFrame\n",
      "\n",
      "See the caveats in the documentation: https://pandas.pydata.org/pandas-docs/stable/user_guide/indexing.html#returning-a-view-versus-a-copy\n",
      "  self._setitem_single_block(indexer, value, name)\n"
     ]
    },
    {
     "data": {
      "text/plain": [
       "Text(0, 0.5, 'Reading Score')"
      ]
     },
     "execution_count": 16,
     "metadata": {},
     "output_type": "execute_result"
    },
    {
     "data": {
      "image/png": "[encoded data removed]",
      "text/plain": [
       "<Figure size 432x288 with 1 Axes>"
      ]
     },
     "metadata": {
      "needs_background": "light"
     },
     "output_type": "display_data"
    }
   ],
   "source": [
    "upperlimit=np.percentile(df.writing_score.values, 100)\n",
    "df['writing_score'].iloc[df['writing_score']>upperlimit]=upperlimit\n",
    "plt.scatter(range(df.shape[0]), df['writing_score'].values, color='green')\n",
    "plt.title('Distribution of reading score')\n",
    "plt.xlabel('Number of students')\n",
    "plt.ylabel('Reading Score')"
   ]
  },
  {
   "cell_type": "markdown",
   "id": "09ca8c5e",
   "metadata": {},
   "source": [
    "# Outlier Value Imputations"
   ]
  },
  {
   "cell_type": "markdown",
   "id": "a44431f3",
   "metadata": {},
   "source": [
    "Misssing values in the training data set can affect prediction or classification of a model negatively. Also machine learning algorithms cannot accept missing data. All such feed are called outliers. \n",
    "\n",
    "In above code there are two ways to deal with outliers:\n",
    "1. To remove the variables with invalid marks\n",
    "2. To fill outliers inplace with the mean or median of subject marks\n",
    "\n",
    "If the particular column with specified marks is removed then the particular student won't be included in the clusttering. However, if the outlying marks are replaced with mean or median of respective score the students would still be considered as a part of dataset fed to machine learning algorithm for clusttering"
   ]
  },
  {
   "cell_type": "code",
   "execution_count": 17,
   "id": "761f0509",
   "metadata": {},
   "outputs": [
    {
     "data": {
      "text/plain": [
       "<AxesSubplot:xlabel='math_score'>"
      ]
     },
     "execution_count": 17,
     "metadata": {},
     "output_type": "execute_result"
    },
    {
     "data": {
      "image/png": "[encoded data removed]",
      "text/plain": [
       "<Figure size 432x288 with 1 Axes>"
      ]
     },
     "metadata": {
      "needs_background": "light"
     },
     "output_type": "display_data"
    }
   ],
   "source": [
    "sns.boxplot(x='math_score', data=df, color='yellow')"
   ]
  },
  {
   "cell_type": "code",
   "execution_count": 47,
   "id": "fb37c06a",
   "metadata": {},
   "outputs": [
    {
     "data": {
      "text/plain": [
       "<AxesSubplot:xlabel='math_score'>"
      ]
     },
     "execution_count": 47,
     "metadata": {},
     "output_type": "execute_result"
    },
    {
     "data": {
      "image/png": "[encoded data removed]",
      "text/plain": [
       "<Figure size 432x288 with 1 Axes>"
      ]
     },
     "metadata": {
      "needs_background": "light"
     },
     "output_type": "display_data"
    }
   ],
   "source": [
    "upperlimit=100\n",
    "df['math_score'].iloc[df['math_score']>upperlimit]=df[\"math_score\"].mean()\n",
    "sns.boxplot(x='math_score', data=df, color='yellow')"
   ]
  },
  {
   "cell_type": "markdown",
   "id": "ab76dda2",
   "metadata": {},
   "source": [
    "Similarly the remaining two attributes 'reading_score' and 'writing_score' can also be treated."
   ]
  },
  {
   "cell_type": "code",
   "execution_count": 19,
   "id": "6e938d70",
   "metadata": {},
   "outputs": [
    {
     "data": {
      "text/plain": [
       "<AxesSubplot:xlabel='writing_score'>"
      ]
     },
     "execution_count": 19,
     "metadata": {},
     "output_type": "execute_result"
    },
    {
     "data": {
      "image/png": "[encoded data removed]",
      "text/plain": [
       "<Figure size 432x288 with 1 Axes>"
      ]
     },
     "metadata": {
      "needs_background": "light"
     },
     "output_type": "display_data"
    }
   ],
   "source": [
    "sns.boxplot(x='writing_score', data=df, color='pink')"
   ]
  },
  {
   "cell_type": "code",
   "execution_count": 48,
   "id": "9510d10c",
   "metadata": {},
   "outputs": [
    {
     "data": {
      "text/plain": [
       "<AxesSubplot:xlabel='writing_score'>"
      ]
     },
     "execution_count": 48,
     "metadata": {},
     "output_type": "execute_result"
    },
    {
     "data": {
      "image/png": "[encoded data removed]",
      "text/plain": [
       "<Figure size 432x288 with 1 Axes>"
      ]
     },
     "metadata": {
      "needs_background": "light"
     },
     "output_type": "display_data"
    }
   ],
   "source": [
    "upperlimit=100\n",
    "df['writing_score'].iloc[df['writing_score']>upperlimit]=df[\"writing_score\"].mean()\n",
    "sns.boxplot(x='writing_score', data=df, color='pink')"
   ]
  },
  {
   "cell_type": "code",
   "execution_count": 21,
   "id": "ac4a451a",
   "metadata": {},
   "outputs": [
    {
     "data": {
      "text/plain": [
       "<AxesSubplot:xlabel='reading_score'>"
      ]
     },
     "execution_count": 21,
     "metadata": {},
     "output_type": "execute_result"
    },
    {
     "data": {
      "image/png": "[encoded data removed]",
      "text/plain": [
       "<Figure size 432x288 with 1 Axes>"
      ]
     },
     "metadata": {
      "needs_background": "light"
     },
     "output_type": "display_data"
    }
   ],
   "source": [
    "sns.boxplot(x='reading_score', data=df, color='red')"
   ]
  },
  {
   "cell_type": "code",
   "execution_count": 49,
   "id": "5a1c1a7c",
   "metadata": {},
   "outputs": [
    {
     "data": {
      "text/plain": [
       "<AxesSubplot:xlabel='reading_score'>"
      ]
     },
     "execution_count": 49,
     "metadata": {},
     "output_type": "execute_result"
    },
    {
     "data": {
      "image/png": "[encoded data removed]",
      "text/plain": [
       "<Figure size 432x288 with 1 Axes>"
      ]
     },
     "metadata": {
      "needs_background": "light"
     },
     "output_type": "display_data"
    }
   ],
   "source": [
    "upperlimit=100\n",
    "df['reading_score'].iloc[df['reading_score']>upperlimit]=df[\"reading_score\"].mean()\n",
    "sns.boxplot(x='reading_score', data=df, color='red')"
   ]
  },
  {
   "cell_type": "markdown",
   "id": "41763e51",
   "metadata": {},
   "source": [
    "Now, all students in above dataset have vales in range 0-100 and there are no outliers."
   ]
  },
  {
   "cell_type": "markdown",
   "id": "aae8dbc2",
   "metadata": {},
   "source": [
    "# Preparing Dataset "
   ]
  },
  {
   "cell_type": "code",
   "execution_count": 23,
   "id": "683ce850",
   "metadata": {},
   "outputs": [],
   "source": [
    "df=df.drop(['RollNo'], axis=1)"
   ]
  },
  {
   "cell_type": "code",
   "execution_count": 24,
   "id": "61ec13c3",
   "metadata": {},
   "outputs": [
    {
     "data": {
      "text/html": [
       "<div>\n",
       "<style scoped>\n",
       "    .dataframe tbody tr th:only-of-type {\n",
       "        vertical-align: middle;\n",
       "    }\n",
       "\n",
       "    .dataframe tbody tr th {\n",
       "        vertical-align: top;\n",
       "    }\n",
       "\n",
       "    .dataframe thead th {\n",
       "        text-align: right;\n",
       "    }\n",
       "</style>\n",
       "<table border=\"1\" class=\"dataframe\">\n",
       "  <thead>\n",
       "    <tr style=\"text-align: right;\">\n",
       "      <th></th>\n",
       "      <th>math_score</th>\n",
       "      <th>reading_score</th>\n",
       "      <th>writing_score</th>\n",
       "    </tr>\n",
       "  </thead>\n",
       "  <tbody>\n",
       "    <tr>\n",
       "      <th>0</th>\n",
       "      <td>72.0</td>\n",
       "      <td>72.0</td>\n",
       "      <td>74.0</td>\n",
       "    </tr>\n",
       "    <tr>\n",
       "      <th>1</th>\n",
       "      <td>69.0</td>\n",
       "      <td>90.0</td>\n",
       "      <td>88.0</td>\n",
       "    </tr>\n",
       "    <tr>\n",
       "      <th>2</th>\n",
       "      <td>90.0</td>\n",
       "      <td>95.0</td>\n",
       "      <td>93.0</td>\n",
       "    </tr>\n",
       "    <tr>\n",
       "      <th>3</th>\n",
       "      <td>47.0</td>\n",
       "      <td>57.0</td>\n",
       "      <td>44.0</td>\n",
       "    </tr>\n",
       "    <tr>\n",
       "      <th>4</th>\n",
       "      <td>76.0</td>\n",
       "      <td>78.0</td>\n",
       "      <td>75.0</td>\n",
       "    </tr>\n",
       "  </tbody>\n",
       "</table>\n",
       "</div>"
      ],
      "text/plain": [
       "   math_score  reading_score  writing_score\n",
       "0        72.0           72.0           74.0\n",
       "1        69.0           90.0           88.0\n",
       "2        90.0           95.0           93.0\n",
       "3        47.0           57.0           44.0\n",
       "4        76.0           78.0           75.0"
      ]
     },
     "execution_count": 24,
     "metadata": {},
     "output_type": "execute_result"
    }
   ],
   "source": [
    "df.head()"
   ]
  },
  {
   "cell_type": "markdown",
   "id": "92aa376c",
   "metadata": {},
   "source": [
    "The Roll Number column should be removed from the dataset before fitting into the model since the roll number of students is not a factor responsible for deciding students performance for grouping. "
   ]
  },
  {
   "cell_type": "markdown",
   "id": "460edff0",
   "metadata": {},
   "source": [
    "# K-Means Clusttering "
   ]
  },
  {
   "cell_type": "code",
   "execution_count": 25,
   "id": "e7c126a5",
   "metadata": {
    "scrolled": false
   },
   "outputs": [],
   "source": [
    "from sklearn.cluster import KMeans\n",
    "kmeans=KMeans(n_clusters=4, max_iter=50)\n",
    "kmeans.fit(df)\n",
    "y_kmeans=kmeans.predict(df)"
   ]
  },
  {
   "cell_type": "code",
   "execution_count": 26,
   "id": "415970e1",
   "metadata": {},
   "outputs": [
    {
     "data": {
      "text/plain": [
       "array([0, 1, 1, 2, 0, 0, 1, 2, 3, 2, 3, 3, 0, 0, 3, 0, 1, 2, 2, 3, 3, 0,\n",
       "       2, 0, 0, 0, 3, 0, 0, 0, 0, 3, 3, 2, 1, 1, 0, 3, 1, 3, 3, 3, 3, 3,\n",
       "       3, 3, 3, 0, 0, 1, 2, 0, 2, 1, 1, 2, 1, 2, 3, 2, 0, 2, 3, 0, 3, 3,\n",
       "       2, 0, 3, 3, 3, 3, 2, 3, 2, 2, 2, 0, 0, 3, 2, 2, 2, 3, 2, 0, 1, 0,\n",
       "       3, 1, 0, 2, 0, 2, 1, 1, 3, 0, 3, 3, 0, 0, 1, 2, 1, 3, 1, 3, 3, 0,\n",
       "       1, 3, 2, 3, 1, 0, 1, 0, 3, 3, 1, 1, 1, 3, 0, 1, 0, 0, 0, 2, 1, 2,\n",
       "       0, 0, 0, 3, 2, 3, 3, 3, 0, 3, 2, 2, 0, 2, 1, 0, 0, 1, 3, 0, 3, 2,\n",
       "       3, 1, 0, 3, 0, 3, 0, 1, 2, 2, 1, 1, 2, 0, 0, 0, 0, 1, 1, 3, 2, 1,\n",
       "       2, 0, 3, 1, 0, 3, 2, 0, 2, 3, 0, 3, 2, 1, 3, 0, 3, 3, 0, 3, 3, 3,\n",
       "       2, 0, 0, 0, 0, 3, 2, 0, 0, 0, 0, 3, 0, 2, 3, 3, 1, 1, 1, 2, 0, 3,\n",
       "       3, 1, 3, 1, 3, 2, 0, 3, 0, 1, 0, 2, 0, 1, 1, 0, 3, 3, 2, 1, 0, 1,\n",
       "       3, 2, 0, 0, 0, 3, 3, 3, 2, 0, 3, 0, 2, 0, 0, 0, 0, 0, 0, 0, 2, 1,\n",
       "       0, 2, 0, 0, 1, 0, 3, 2, 2, 0, 1, 0, 1, 3, 0, 3, 2, 2, 0, 0, 2, 1,\n",
       "       1, 0, 0, 0, 0, 0, 3, 0, 0, 3, 2, 0, 2, 1, 0, 3, 0, 0, 0, 0, 1, 2,\n",
       "       3, 2, 0, 3, 3, 0, 3, 0, 1, 0, 0, 3, 0, 0, 0, 2, 2, 1, 3, 2, 0, 2,\n",
       "       3, 2, 3, 1, 1, 3, 0, 2, 2, 2, 3, 3, 0, 0, 0, 0, 3, 1, 0, 0, 3, 3,\n",
       "       0, 3, 3, 0, 3, 3, 3, 1, 3, 1, 3, 2, 3, 3, 3, 3, 3, 1, 0, 3, 0, 1,\n",
       "       0, 2, 1, 1, 0, 3, 1, 1, 0, 2, 2, 0, 0, 0, 3, 0, 3, 0, 0, 3, 0, 2,\n",
       "       3, 1, 3, 3, 3, 2, 3, 1, 3, 0, 3, 0, 3, 1, 0, 1, 3, 3, 0, 0, 0, 0,\n",
       "       3, 3, 1, 3, 3, 0, 2, 3, 1, 0, 3, 3, 3, 0, 3, 2, 0, 2, 0, 0, 3, 1,\n",
       "       0, 0, 0, 0, 0, 0, 3, 1, 2, 0, 0, 1, 0, 3, 3, 2, 1, 2, 1, 0, 3, 2,\n",
       "       0, 1, 3, 1, 2, 0, 1, 1, 1, 0, 0, 3, 1, 0, 0, 0, 3, 0, 0, 3, 3, 2,\n",
       "       2, 0, 3, 0, 3, 1, 0, 3, 1, 1, 3, 3, 2, 0, 0, 0, 0, 1, 3, 1, 2, 1,\n",
       "       0, 3, 0, 1, 0, 2, 3, 3, 1, 1, 1, 0, 0, 0, 3, 1, 3, 3, 2, 3, 3, 2,\n",
       "       2, 0, 0, 2, 3, 1, 0, 0, 3, 3, 0, 1, 0, 1, 0, 1, 3, 1, 1, 0, 3, 0,\n",
       "       0, 1, 2, 0, 2, 2, 0, 3, 3, 3, 0, 0, 1, 0, 2, 2, 1, 0, 2, 0, 0, 1,\n",
       "       3, 3, 0, 2, 3, 1, 3, 3, 1, 0, 0, 0, 0, 0, 0, 3, 3, 3, 3, 3, 3, 0,\n",
       "       1, 0, 2, 2, 0, 0, 3, 2, 0, 3, 1, 0, 1, 2, 3, 3, 3, 3, 1, 0, 1, 3,\n",
       "       2, 1, 1, 0, 2, 3, 3, 1, 3, 1, 0, 2, 2, 2, 3, 0, 0, 1, 1, 0, 0, 1,\n",
       "       0, 0, 2, 1, 0, 0, 3, 0, 3, 3, 2, 0, 3, 0, 1, 0, 0, 3, 0, 3, 3, 1,\n",
       "       0, 0, 3, 0, 0, 3, 0, 1, 0, 0, 0, 2, 0, 0, 0, 3, 0, 0, 0, 3, 0, 3,\n",
       "       3, 2, 3, 1, 0, 0, 2, 1, 2, 0, 0, 0, 3, 1, 1, 0, 0, 3, 1, 3, 1, 3,\n",
       "       3, 3, 2, 3, 1, 3, 1, 1, 1, 1, 0, 1, 0, 1, 0, 1, 0, 3, 1, 2, 2, 0,\n",
       "       0, 3, 1, 2, 0, 2, 1, 2, 3, 3, 1, 3, 0, 3, 0, 2, 1, 0, 2, 0, 0, 3,\n",
       "       3, 1, 0, 0, 0, 1, 3, 1, 3, 0, 3, 0, 3, 3, 1, 3, 3, 0, 0, 3, 0, 3,\n",
       "       2, 0, 3, 0, 3, 3, 0, 2, 0, 1, 3, 1, 1, 3, 1, 2, 0, 2, 3, 3, 3, 3,\n",
       "       0, 1, 2, 3, 0, 0, 3, 3, 0, 0, 1, 1, 0, 0, 0, 2, 0, 3, 2, 2, 3, 1,\n",
       "       0, 1, 3, 0, 3, 1, 1, 1, 2, 0, 2, 3, 3, 0, 0, 3, 3, 1, 3, 1, 2, 3,\n",
       "       3, 0, 3, 0, 2, 3, 2, 0, 3, 1, 1, 3, 3, 0, 0, 3, 1, 0, 3, 1, 0, 0,\n",
       "       2, 0, 3, 1, 2, 0, 1, 1, 3, 2, 0, 2, 3, 0, 1, 1, 3, 0, 1, 3, 0, 0,\n",
       "       3, 0, 0, 2, 2, 0, 1, 3, 0, 2, 1, 1, 3, 0, 3, 2, 2, 0, 3, 0, 1, 0,\n",
       "       2, 1, 0, 1, 2, 1, 0, 0, 2, 0, 3, 3, 3, 0, 1, 2, 0, 1, 0, 2, 0, 3,\n",
       "       0, 3, 3, 3, 2, 2, 0, 3, 0, 0, 1, 3, 3, 3, 1, 0, 0, 1, 0, 3, 3, 3,\n",
       "       1, 3, 2, 0, 0, 0, 0, 3, 3, 3, 1, 1, 3, 0, 3, 2, 1, 0, 3, 0, 3, 3,\n",
       "       0, 0, 1, 0, 3, 3, 3, 0, 3, 3, 2, 1, 2, 0, 1, 1, 0, 3, 2, 0, 2, 0,\n",
       "       1, 0, 0, 0, 3, 1, 3, 3, 0, 1])"
      ]
     },
     "execution_count": 26,
     "metadata": {},
     "output_type": "execute_result"
    }
   ],
   "source": [
    "y_kmeans"
   ]
  },
  {
   "cell_type": "code",
   "execution_count": 27,
   "id": "8c0813f2",
   "metadata": {},
   "outputs": [
    {
     "data": {
      "text/plain": [
       "array([0, 1, 1, 2, 0, 0, 1, 2, 3, 2, 3, 3, 0, 0, 3, 0, 1, 2, 2, 3, 3, 0,\n",
       "       2, 0, 0, 0, 3, 0, 0, 0, 0, 3, 3, 2, 1, 1, 0, 3, 1, 3, 3, 3, 3, 3,\n",
       "       3, 3, 3, 0, 0, 1, 2, 0, 2, 1, 1, 2, 1, 2, 3, 2, 0, 2, 3, 0, 3, 3,\n",
       "       2, 0, 3, 3, 3, 3, 2, 3, 2, 2, 2, 0, 0, 3, 2, 2, 2, 3, 2, 0, 1, 0,\n",
       "       3, 1, 0, 2, 0, 2, 1, 1, 3, 0, 3, 3, 0, 0, 1, 2, 1, 3, 1, 3, 3, 0,\n",
       "       1, 3, 2, 3, 1, 0, 1, 0, 3, 3, 1, 1, 1, 3, 0, 1, 0, 0, 0, 2, 1, 2,\n",
       "       0, 0, 0, 3, 2, 3, 3, 3, 0, 3, 2, 2, 0, 2, 1, 0, 0, 1, 3, 0, 3, 2,\n",
       "       3, 1, 0, 3, 0, 3, 0, 1, 2, 2, 1, 1, 2, 0, 0, 0, 0, 1, 1, 3, 2, 1,\n",
       "       2, 0, 3, 1, 0, 3, 2, 0, 2, 3, 0, 3, 2, 1, 3, 0, 3, 3, 0, 3, 3, 3,\n",
       "       2, 0, 0, 0, 0, 3, 2, 0, 0, 0, 0, 3, 0, 2, 3, 3, 1, 1, 1, 2, 0, 3,\n",
       "       3, 1, 3, 1, 3, 2, 0, 3, 0, 1, 0, 2, 0, 1, 1, 0, 3, 3, 2, 1, 0, 1,\n",
       "       3, 2, 0, 0, 0, 3, 3, 3, 2, 0, 3, 0, 2, 0, 0, 0, 0, 0, 0, 0, 2, 1,\n",
       "       0, 2, 0, 0, 1, 0, 3, 2, 2, 0, 1, 0, 1, 3, 0, 3, 2, 2, 0, 0, 2, 1,\n",
       "       1, 0, 0, 0, 0, 0, 3, 0, 0, 3, 2, 0, 2, 1, 0, 3, 0, 0, 0, 0, 1, 2,\n",
       "       3, 2, 0, 3, 3, 0, 3, 0, 1, 0, 0, 3, 0, 0, 0, 2, 2, 1, 3, 2, 0, 2,\n",
       "       3, 2, 3, 1, 1, 3, 0, 2, 2, 2, 3, 3, 0, 0, 0, 0, 3, 1, 0, 0, 3, 3,\n",
       "       0, 3, 3, 0, 3, 3, 3, 1, 3, 1, 3, 2, 3, 3, 3, 3, 3, 1, 0, 3, 0, 1,\n",
       "       0, 2, 1, 1, 0, 3, 1, 1, 0, 2, 2, 0, 0, 0, 3, 0, 3, 0, 0, 3, 0, 2,\n",
       "       3, 1, 3, 3, 3, 2, 3, 1, 3, 0, 3, 0, 3, 1, 0, 1, 3, 3, 0, 0, 0, 0,\n",
       "       3, 3, 1, 3, 3, 0, 2, 3, 1, 0, 3, 3, 3, 0, 3, 2, 0, 2, 0, 0, 3, 1,\n",
       "       0, 0, 0, 0, 0, 0, 3, 1, 2, 0, 0, 1, 0, 3, 3, 2, 1, 2, 1, 0, 3, 2,\n",
       "       0, 1, 3, 1, 2, 0, 1, 1, 1, 0, 0, 3, 1, 0, 0, 0, 3, 0, 0, 3, 3, 2,\n",
       "       2, 0, 3, 0, 3, 1, 0, 3, 1, 1, 3, 3, 2, 0, 0, 0, 0, 1, 3, 1, 2, 1,\n",
       "       0, 3, 0, 1, 0, 2, 3, 3, 1, 1, 1, 0, 0, 0, 3, 1, 3, 3, 2, 3, 3, 2,\n",
       "       2, 0, 0, 2, 3, 1, 0, 0, 3, 3, 0, 1, 0, 1, 0, 1, 3, 1, 1, 0, 3, 0,\n",
       "       0, 1, 2, 0, 2, 2, 0, 3, 3, 3, 0, 0, 1, 0, 2, 2, 1, 0, 2, 0, 0, 1,\n",
       "       3, 3, 0, 2, 3, 1, 3, 3, 1, 0, 0, 0, 0, 0, 0, 3, 3, 3, 3, 3, 3, 0,\n",
       "       1, 0, 2, 2, 0, 0, 3, 2, 0, 3, 1, 0, 1, 2, 3, 3, 3, 3, 1, 0, 1, 3,\n",
       "       2, 1, 1, 0, 2, 3, 3, 1, 3, 1, 0, 2, 2, 2, 3, 0, 0, 1, 1, 0, 0, 1,\n",
       "       0, 0, 2, 1, 0, 0, 3, 0, 3, 3, 2, 0, 3, 0, 1, 0, 0, 3, 0, 3, 3, 1,\n",
       "       0, 0, 3, 0, 0, 3, 0, 1, 0, 0, 0, 2, 0, 0, 0, 3, 0, 0, 0, 3, 0, 3,\n",
       "       3, 2, 3, 1, 0, 0, 2, 1, 2, 0, 0, 0, 3, 1, 1, 0, 0, 3, 1, 3, 1, 3,\n",
       "       3, 3, 2, 3, 1, 3, 1, 1, 1, 1, 0, 1, 0, 1, 0, 1, 0, 3, 1, 2, 2, 0,\n",
       "       0, 3, 1, 2, 0, 2, 1, 2, 3, 3, 1, 3, 0, 3, 0, 2, 1, 0, 2, 0, 0, 3,\n",
       "       3, 1, 0, 0, 0, 1, 3, 1, 3, 0, 3, 0, 3, 3, 1, 3, 3, 0, 0, 3, 0, 3,\n",
       "       2, 0, 3, 0, 3, 3, 0, 2, 0, 1, 3, 1, 1, 3, 1, 2, 0, 2, 3, 3, 3, 3,\n",
       "       0, 1, 2, 3, 0, 0, 3, 3, 0, 0, 1, 1, 0, 0, 0, 2, 0, 3, 2, 2, 3, 1,\n",
       "       0, 1, 3, 0, 3, 1, 1, 1, 2, 0, 2, 3, 3, 0, 0, 3, 3, 1, 3, 1, 2, 3,\n",
       "       3, 0, 3, 0, 2, 3, 2, 0, 3, 1, 1, 3, 3, 0, 0, 3, 1, 0, 3, 1, 0, 0,\n",
       "       2, 0, 3, 1, 2, 0, 1, 1, 3, 2, 0, 2, 3, 0, 1, 1, 3, 0, 1, 3, 0, 0,\n",
       "       3, 0, 0, 2, 2, 0, 1, 3, 0, 2, 1, 1, 3, 0, 3, 2, 2, 0, 3, 0, 1, 0,\n",
       "       2, 1, 0, 1, 2, 1, 0, 0, 2, 0, 3, 3, 3, 0, 1, 2, 0, 1, 0, 2, 0, 3,\n",
       "       0, 3, 3, 3, 2, 2, 0, 3, 0, 0, 1, 3, 3, 3, 1, 0, 0, 1, 0, 3, 3, 3,\n",
       "       1, 3, 2, 0, 0, 0, 0, 3, 3, 3, 1, 1, 3, 0, 3, 2, 1, 0, 3, 0, 3, 3,\n",
       "       0, 0, 1, 0, 3, 3, 3, 0, 3, 3, 2, 1, 2, 0, 1, 1, 0, 3, 2, 0, 2, 0,\n",
       "       1, 0, 0, 0, 3, 1, 3, 3, 0, 1])"
      ]
     },
     "execution_count": 27,
     "metadata": {},
     "output_type": "execute_result"
    }
   ],
   "source": [
    "kmeans.labels_"
   ]
  },
  {
   "cell_type": "code",
   "execution_count": 28,
   "id": "674a4644",
   "metadata": {},
   "outputs": [
    {
     "data": {
      "text/plain": [
       "[<matplotlib.lines.Line2D at 0x29a0598a670>]"
      ]
     },
     "execution_count": 28,
     "metadata": {},
     "output_type": "execute_result"
    },
    {
     "data": {
      "image/png": "[encoded data removed]",
      "text/plain": [
       "<Figure size 432x288 with 1 Axes>"
      ]
     },
     "metadata": {
      "needs_background": "light"
     },
     "output_type": "display_data"
    }
   ],
   "source": [
    "ssd=[]\n",
    "range_n_clusters=[2,3,4,5,6,7,8]\n",
    "for num_clusters in range_n_clusters:\n",
    "    kmeans=KMeans(n_clusters=num_clusters, max_iter=50)\n",
    "    kmeans.fit(df)\n",
    "    \n",
    "    ssd.append(kmeans.inertia_)\n",
    "    \n",
    "plt.plot(ssd)"
   ]
  },
  {
   "cell_type": "code",
   "execution_count": 29,
   "id": "9a4a48c6",
   "metadata": {},
   "outputs": [
    {
     "name": "stdout",
     "output_type": "stream",
     "text": [
      "for n_clusters=2, the silhouette score is 0.47210266279908203\n",
      "for n_clusters=3, the silhouette score is 0.40428456843735244\n",
      "for n_clusters=4, the silhouette score is 0.34999518628209536\n",
      "for n_clusters=5, the silhouette score is 0.33225263205995714\n",
      "for n_clusters=6, the silhouette score is 0.29219649558247873\n",
      "for n_clusters=7, the silhouette score is 0.3032455954457124\n",
      "for n_clusters=8, the silhouette score is 0.300324050998222\n"
     ]
    }
   ],
   "source": [
    "range_n_clusters=[2,3,4,5,6,7,8]\n",
    "\n",
    "for num_clusters in range_n_clusters:\n",
    "    kmeans=KMeans(n_clusters=num_clusters, max_iter=50)\n",
    "    kmeans.fit(df)\n",
    "    \n",
    "    cluster_labels=kmeans.labels_\n",
    "    \n",
    "    silhouette_avg=silhouette_score(df, cluster_labels)\n",
    "    print(\"for n_clusters={0}, the silhouette score is {1}\".format(num_clusters, silhouette_avg))"
   ]
  },
  {
   "cell_type": "code",
   "execution_count": 30,
   "id": "d063f7bb",
   "metadata": {},
   "outputs": [
    {
     "data": {
      "text/plain": [
       "KMeans(max_iter=50, n_clusters=3)"
      ]
     },
     "execution_count": 30,
     "metadata": {},
     "output_type": "execute_result"
    }
   ],
   "source": [
    "kmeans=KMeans(n_clusters=3, max_iter=50)\n",
    "kmeans.fit(df)"
   ]
  },
  {
   "cell_type": "code",
   "execution_count": 31,
   "id": "7fa24398",
   "metadata": {},
   "outputs": [],
   "source": [
    "#df['Cluster_ID']=kmeans.labels_"
   ]
  },
  {
   "cell_type": "code",
   "execution_count": 32,
   "id": "b413a3d7",
   "metadata": {},
   "outputs": [
    {
     "data": {
      "text/html": [
       "<div>\n",
       "<style scoped>\n",
       "    .dataframe tbody tr th:only-of-type {\n",
       "        vertical-align: middle;\n",
       "    }\n",
       "\n",
       "    .dataframe tbody tr th {\n",
       "        vertical-align: top;\n",
       "    }\n",
       "\n",
       "    .dataframe thead th {\n",
       "        text-align: right;\n",
       "    }\n",
       "</style>\n",
       "<table border=\"1\" class=\"dataframe\">\n",
       "  <thead>\n",
       "    <tr style=\"text-align: right;\">\n",
       "      <th></th>\n",
       "      <th>math_score</th>\n",
       "      <th>reading_score</th>\n",
       "      <th>writing_score</th>\n",
       "    </tr>\n",
       "  </thead>\n",
       "  <tbody>\n",
       "    <tr>\n",
       "      <th>0</th>\n",
       "      <td>72.0</td>\n",
       "      <td>72.0</td>\n",
       "      <td>74.0</td>\n",
       "    </tr>\n",
       "    <tr>\n",
       "      <th>1</th>\n",
       "      <td>69.0</td>\n",
       "      <td>90.0</td>\n",
       "      <td>88.0</td>\n",
       "    </tr>\n",
       "    <tr>\n",
       "      <th>2</th>\n",
       "      <td>90.0</td>\n",
       "      <td>95.0</td>\n",
       "      <td>93.0</td>\n",
       "    </tr>\n",
       "    <tr>\n",
       "      <th>3</th>\n",
       "      <td>47.0</td>\n",
       "      <td>57.0</td>\n",
       "      <td>44.0</td>\n",
       "    </tr>\n",
       "    <tr>\n",
       "      <th>4</th>\n",
       "      <td>76.0</td>\n",
       "      <td>78.0</td>\n",
       "      <td>75.0</td>\n",
       "    </tr>\n",
       "  </tbody>\n",
       "</table>\n",
       "</div>"
      ],
      "text/plain": [
       "   math_score  reading_score  writing_score\n",
       "0        72.0           72.0           74.0\n",
       "1        69.0           90.0           88.0\n",
       "2        90.0           95.0           93.0\n",
       "3        47.0           57.0           44.0\n",
       "4        76.0           78.0           75.0"
      ]
     },
     "execution_count": 32,
     "metadata": {},
     "output_type": "execute_result"
    }
   ],
   "source": [
    "df.head()"
   ]
  },
  {
   "cell_type": "markdown",
   "id": "9e37d9df",
   "metadata": {},
   "source": [
    "Adding the Column 'RollNo' again to the dataset."
   ]
  },
  {
   "cell_type": "code",
   "execution_count": 33,
   "id": "bb9cd73b",
   "metadata": {},
   "outputs": [],
   "source": [
    "#df['RollNo']=df.index"
   ]
  },
  {
   "cell_type": "code",
   "execution_count": 34,
   "id": "0f7d3061",
   "metadata": {},
   "outputs": [
    {
     "data": {
      "text/html": [
       "<div>\n",
       "<style scoped>\n",
       "    .dataframe tbody tr th:only-of-type {\n",
       "        vertical-align: middle;\n",
       "    }\n",
       "\n",
       "    .dataframe tbody tr th {\n",
       "        vertical-align: top;\n",
       "    }\n",
       "\n",
       "    .dataframe thead th {\n",
       "        text-align: right;\n",
       "    }\n",
       "</style>\n",
       "<table border=\"1\" class=\"dataframe\">\n",
       "  <thead>\n",
       "    <tr style=\"text-align: right;\">\n",
       "      <th></th>\n",
       "      <th>math_score</th>\n",
       "      <th>reading_score</th>\n",
       "      <th>writing_score</th>\n",
       "    </tr>\n",
       "  </thead>\n",
       "  <tbody>\n",
       "    <tr>\n",
       "      <th>0</th>\n",
       "      <td>72.0</td>\n",
       "      <td>72.0</td>\n",
       "      <td>74.0</td>\n",
       "    </tr>\n",
       "    <tr>\n",
       "      <th>1</th>\n",
       "      <td>69.0</td>\n",
       "      <td>90.0</td>\n",
       "      <td>88.0</td>\n",
       "    </tr>\n",
       "    <tr>\n",
       "      <th>2</th>\n",
       "      <td>90.0</td>\n",
       "      <td>95.0</td>\n",
       "      <td>93.0</td>\n",
       "    </tr>\n",
       "    <tr>\n",
       "      <th>3</th>\n",
       "      <td>47.0</td>\n",
       "      <td>57.0</td>\n",
       "      <td>44.0</td>\n",
       "    </tr>\n",
       "    <tr>\n",
       "      <th>4</th>\n",
       "      <td>76.0</td>\n",
       "      <td>78.0</td>\n",
       "      <td>75.0</td>\n",
       "    </tr>\n",
       "  </tbody>\n",
       "</table>\n",
       "</div>"
      ],
      "text/plain": [
       "   math_score  reading_score  writing_score\n",
       "0        72.0           72.0           74.0\n",
       "1        69.0           90.0           88.0\n",
       "2        90.0           95.0           93.0\n",
       "3        47.0           57.0           44.0\n",
       "4        76.0           78.0           75.0"
      ]
     },
     "execution_count": 34,
     "metadata": {},
     "output_type": "execute_result"
    }
   ],
   "source": [
    "df.head()"
   ]
  },
  {
   "cell_type": "markdown",
   "id": "6dc0082d",
   "metadata": {},
   "source": [
    "# Clustering Output"
   ]
  },
  {
   "cell_type": "code",
   "execution_count": 35,
   "id": "a54bb6b2",
   "metadata": {},
   "outputs": [],
   "source": [
    "#df[['RollNo','Cluster_ID']]"
   ]
  },
  {
   "cell_type": "markdown",
   "id": "f7686329",
   "metadata": {},
   "source": [
    "# Saving Model using Pickle"
   ]
  },
  {
   "cell_type": "code",
   "execution_count": 36,
   "id": "fdb0db87",
   "metadata": {},
   "outputs": [],
   "source": [
    "import pickle"
   ]
  },
  {
   "cell_type": "code",
   "execution_count": 37,
   "id": "2c2b929f",
   "metadata": {},
   "outputs": [],
   "source": [
    "with open('Student_Clustering','wb') as f:\n",
    "    pickle.dump(df, f)"
   ]
  },
  {
   "cell_type": "code",
   "execution_count": 38,
   "id": "8fb4bab5",
   "metadata": {},
   "outputs": [],
   "source": [
    "with open('Student_Clustering', 'rb') as f:\n",
    "    model=pickle.load(f)\n"
   ]
  },
  {
   "cell_type": "code",
   "execution_count": 39,
   "id": "1a5b7a6d",
   "metadata": {},
   "outputs": [
    {
     "data": {
      "text/plain": [
       "array([2])"
      ]
     },
     "execution_count": 39,
     "metadata": {},
     "output_type": "execute_result"
    }
   ],
   "source": [
    "kmeans.predict([[72,72,74]])"
   ]
  }
 ],
 "metadata": {
  "kernelspec": {
   "display_name": "Python 3",
   "language": "python",
   "name": "python3"
  },
  "language_info": {
   "codemirror_mode": {
    "name": "ipython",
    "version": 3
   },
   "file_extension": ".py",
   "mimetype": "text/x-python",
   "name": "python",
   "nbconvert_exporter": "python",
   "pygments_lexer": "ipython3",
   "version": "3.8.8"
  }
 },
 "nbformat": 4,
 "nbformat_minor": 5
}
