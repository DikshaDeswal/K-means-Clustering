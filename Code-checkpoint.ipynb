{
 "cells": [
  {
   "cell_type": "code",
   "execution_count": 17,
   "id": "405199eb",
   "metadata": {},
   "outputs": [],
   "source": [
    "import pandas as pd\n",
    "import numpy as np\n",
    "import matplotlib.pyplot as plt\n",
    "%matplotlib inline\n",
    "from sklearn.metrics import silhouette_score\n",
    "import seaborn as sns"
   ]
  },
  {
   "cell_type": "code",
   "execution_count": 2,
   "id": "23b32169",
   "metadata": {},
   "outputs": [],
   "source": [
    "df=pd.read_csv('data01.csv')"
   ]
  },
  {
   "cell_type": "code",
   "execution_count": 3,
   "id": "7ffa31b6",
   "metadata": {},
   "outputs": [
    {
     "data": {
      "text/html": [
       "<div>\n",
       "<style scoped>\n",
       "    .dataframe tbody tr th:only-of-type {\n",
       "        vertical-align: middle;\n",
       "    }\n",
       "\n",
       "    .dataframe tbody tr th {\n",
       "        vertical-align: top;\n",
       "    }\n",
       "\n",
       "    .dataframe thead th {\n",
       "        text-align: right;\n",
       "    }\n",
       "</style>\n",
       "<table border=\"1\" class=\"dataframe\">\n",
       "  <thead>\n",
       "    <tr style=\"text-align: right;\">\n",
       "      <th></th>\n",
       "      <th>RollNo</th>\n",
       "      <th>math score</th>\n",
       "      <th>reading score</th>\n",
       "      <th>writing score</th>\n",
       "    </tr>\n",
       "  </thead>\n",
       "  <tbody>\n",
       "    <tr>\n",
       "      <th>0</th>\n",
       "      <td>1</td>\n",
       "      <td>72</td>\n",
       "      <td>72</td>\n",
       "      <td>74</td>\n",
       "    </tr>\n",
       "    <tr>\n",
       "      <th>1</th>\n",
       "      <td>2</td>\n",
       "      <td>69</td>\n",
       "      <td>90</td>\n",
       "      <td>88</td>\n",
       "    </tr>\n",
       "    <tr>\n",
       "      <th>2</th>\n",
       "      <td>3</td>\n",
       "      <td>90</td>\n",
       "      <td>95</td>\n",
       "      <td>93</td>\n",
       "    </tr>\n",
       "    <tr>\n",
       "      <th>3</th>\n",
       "      <td>4</td>\n",
       "      <td>47</td>\n",
       "      <td>57</td>\n",
       "      <td>44</td>\n",
       "    </tr>\n",
       "    <tr>\n",
       "      <th>4</th>\n",
       "      <td>5</td>\n",
       "      <td>76</td>\n",
       "      <td>78</td>\n",
       "      <td>75</td>\n",
       "    </tr>\n",
       "  </tbody>\n",
       "</table>\n",
       "</div>"
      ],
      "text/plain": [
       "   RollNo  math score  reading score  writing score\n",
       "0       1          72             72             74\n",
       "1       2          69             90             88\n",
       "2       3          90             95             93\n",
       "3       4          47             57             44\n",
       "4       5          76             78             75"
      ]
     },
     "execution_count": 3,
     "metadata": {},
     "output_type": "execute_result"
    }
   ],
   "source": [
    "df.head()"
   ]
  },
  {
   "cell_type": "code",
   "execution_count": 4,
   "id": "24a9319f",
   "metadata": {},
   "outputs": [],
   "source": [
    "df=df.drop(columns=['RollNo','writing score'])"
   ]
  },
  {
   "cell_type": "code",
   "execution_count": 5,
   "id": "13d9b7b4",
   "metadata": {},
   "outputs": [
    {
     "data": {
      "text/html": [
       "<div>\n",
       "<style scoped>\n",
       "    .dataframe tbody tr th:only-of-type {\n",
       "        vertical-align: middle;\n",
       "    }\n",
       "\n",
       "    .dataframe tbody tr th {\n",
       "        vertical-align: top;\n",
       "    }\n",
       "\n",
       "    .dataframe thead th {\n",
       "        text-align: right;\n",
       "    }\n",
       "</style>\n",
       "<table border=\"1\" class=\"dataframe\">\n",
       "  <thead>\n",
       "    <tr style=\"text-align: right;\">\n",
       "      <th></th>\n",
       "      <th>math score</th>\n",
       "      <th>reading score</th>\n",
       "    </tr>\n",
       "  </thead>\n",
       "  <tbody>\n",
       "    <tr>\n",
       "      <th>0</th>\n",
       "      <td>72</td>\n",
       "      <td>72</td>\n",
       "    </tr>\n",
       "    <tr>\n",
       "      <th>1</th>\n",
       "      <td>69</td>\n",
       "      <td>90</td>\n",
       "    </tr>\n",
       "    <tr>\n",
       "      <th>2</th>\n",
       "      <td>90</td>\n",
       "      <td>95</td>\n",
       "    </tr>\n",
       "    <tr>\n",
       "      <th>3</th>\n",
       "      <td>47</td>\n",
       "      <td>57</td>\n",
       "    </tr>\n",
       "    <tr>\n",
       "      <th>4</th>\n",
       "      <td>76</td>\n",
       "      <td>78</td>\n",
       "    </tr>\n",
       "  </tbody>\n",
       "</table>\n",
       "</div>"
      ],
      "text/plain": [
       "   math score  reading score\n",
       "0          72             72\n",
       "1          69             90\n",
       "2          90             95\n",
       "3          47             57\n",
       "4          76             78"
      ]
     },
     "execution_count": 5,
     "metadata": {},
     "output_type": "execute_result"
    }
   ],
   "source": [
    "df.head()"
   ]
  },
  {
   "cell_type": "code",
   "execution_count": 6,
   "id": "e7c126a5",
   "metadata": {
    "scrolled": false
   },
   "outputs": [],
   "source": [
    "from sklearn.cluster import KMeans\n",
    "kmeans=KMeans(n_clusters=4, max_iter=50)\n",
    "kmeans.fit(df)\n",
    "y_kmeans=kmeans.predict(df)"
   ]
  },
  {
   "cell_type": "code",
   "execution_count": 7,
   "id": "415970e1",
   "metadata": {},
   "outputs": [
    {
     "data": {
      "text/plain": [
       "array([2, 2, 1, 3, 2, 2, 1, 3, 0, 3, 0, 3, 2, 2, 3, 2, 1, 3, 3, 0, 2, 2,\n",
       "       3, 2, 2, 2, 0, 2, 2, 0, 2, 0, 0, 3, 1, 1, 2, 0, 1, 0, 0, 0, 0, 0,\n",
       "       0, 0, 0, 2, 0, 1, 0, 2, 3, 1, 2, 3, 1, 0, 0, 3, 2, 3, 0, 2, 0, 0,\n",
       "       3, 0, 0, 3, 0, 0, 3, 0, 3, 3, 3, 2, 2, 0, 3, 3, 3, 2, 3, 2, 2, 2,\n",
       "       0, 2, 2, 3, 2, 3, 1, 2, 0, 2, 0, 0, 2, 2, 1, 0, 1, 0, 1, 0, 0, 2,\n",
       "       1, 0, 0, 0, 1, 1, 1, 1, 0, 0, 1, 1, 1, 0, 1, 1, 2, 2, 1, 3, 1, 3,\n",
       "       1, 2, 2, 0, 0, 0, 0, 0, 2, 0, 3, 3, 1, 3, 1, 2, 2, 1, 0, 2, 0, 3,\n",
       "       0, 2, 2, 0, 2, 0, 1, 1, 3, 0, 1, 1, 3, 2, 2, 2, 2, 1, 1, 0, 3, 1,\n",
       "       3, 2, 0, 1, 0, 0, 3, 2, 3, 0, 2, 0, 3, 1, 0, 2, 0, 2, 2, 0, 0, 0,\n",
       "       3, 2, 2, 2, 2, 0, 3, 2, 2, 1, 2, 0, 1, 3, 3, 0, 1, 1, 1, 3, 2, 0,\n",
       "       0, 1, 0, 1, 0, 3, 2, 0, 2, 1, 2, 3, 2, 1, 1, 2, 0, 0, 0, 1, 2, 1,\n",
       "       0, 0, 2, 1, 1, 0, 0, 0, 3, 2, 0, 1, 0, 2, 2, 2, 2, 2, 2, 2, 3, 1,\n",
       "       2, 3, 2, 2, 1, 2, 0, 0, 3, 2, 1, 1, 1, 0, 2, 0, 0, 3, 2, 2, 3, 1,\n",
       "       1, 2, 1, 2, 2, 1, 0, 2, 2, 0, 3, 2, 3, 1, 1, 0, 2, 2, 2, 2, 1, 3,\n",
       "       0, 0, 2, 0, 0, 2, 0, 2, 2, 2, 2, 0, 2, 1, 2, 3, 3, 1, 0, 3, 2, 3,\n",
       "       0, 3, 0, 1, 1, 0, 2, 3, 3, 3, 0, 2, 2, 2, 2, 2, 0, 1, 2, 1, 0, 0,\n",
       "       2, 3, 0, 2, 0, 0, 0, 1, 0, 1, 0, 3, 0, 0, 0, 0, 0, 2, 1, 0, 2, 1,\n",
       "       0, 3, 1, 1, 2, 0, 1, 1, 1, 3, 3, 2, 2, 2, 0, 2, 2, 2, 2, 0, 2, 3,\n",
       "       0, 1, 2, 0, 0, 3, 0, 1, 0, 2, 0, 1, 0, 1, 2, 1, 2, 0, 0, 2, 2, 2,\n",
       "       0, 0, 1, 0, 3, 2, 3, 0, 1, 2, 0, 0, 0, 2, 0, 0, 2, 3, 2, 2, 0, 1,\n",
       "       2, 2, 0, 2, 1, 2, 2, 1, 3, 2, 2, 1, 2, 0, 0, 3, 1, 0, 1, 2, 0, 0,\n",
       "       2, 1, 0, 1, 3, 2, 1, 1, 1, 0, 2, 0, 1, 2, 2, 2, 0, 2, 2, 0, 2, 0,\n",
       "       3, 2, 0, 2, 0, 1, 2, 0, 1, 1, 0, 0, 3, 2, 2, 2, 2, 1, 0, 1, 3, 1,\n",
       "       2, 0, 2, 1, 2, 0, 0, 0, 1, 1, 1, 2, 2, 2, 0, 1, 0, 0, 0, 0, 0, 3,\n",
       "       3, 2, 2, 3, 0, 1, 2, 2, 0, 0, 2, 1, 2, 1, 2, 1, 0, 1, 1, 2, 0, 2,\n",
       "       2, 1, 3, 2, 3, 3, 0, 0, 0, 2, 2, 2, 1, 2, 3, 3, 1, 0, 0, 2, 2, 1,\n",
       "       0, 0, 2, 3, 0, 1, 3, 0, 1, 2, 2, 2, 2, 2, 0, 0, 0, 0, 0, 0, 2, 2,\n",
       "       1, 2, 3, 0, 2, 2, 0, 3, 2, 0, 1, 2, 1, 3, 0, 0, 0, 0, 1, 2, 1, 0,\n",
       "       3, 1, 1, 2, 3, 0, 0, 1, 0, 1, 2, 0, 0, 3, 0, 2, 2, 1, 1, 2, 2, 1,\n",
       "       1, 2, 3, 1, 2, 2, 2, 2, 0, 0, 3, 2, 0, 2, 1, 2, 2, 0, 2, 2, 3, 1,\n",
       "       2, 2, 0, 2, 2, 0, 2, 1, 2, 2, 2, 0, 2, 2, 2, 0, 2, 2, 2, 0, 2, 0,\n",
       "       0, 3, 0, 1, 1, 2, 0, 1, 3, 2, 2, 2, 0, 1, 2, 0, 2, 0, 1, 0, 1, 0,\n",
       "       0, 2, 3, 0, 1, 3, 1, 1, 1, 1, 0, 1, 2, 1, 2, 1, 2, 0, 1, 3, 3, 2,\n",
       "       2, 0, 1, 3, 2, 3, 1, 3, 0, 0, 1, 0, 2, 0, 2, 3, 1, 0, 0, 2, 2, 0,\n",
       "       0, 1, 2, 2, 2, 1, 0, 1, 0, 2, 0, 2, 0, 0, 2, 0, 0, 2, 2, 2, 2, 0,\n",
       "       3, 2, 0, 2, 0, 0, 2, 3, 2, 1, 3, 1, 1, 0, 1, 3, 2, 3, 0, 0, 0, 0,\n",
       "       2, 1, 3, 0, 2, 2, 0, 0, 2, 2, 1, 1, 2, 2, 2, 3, 1, 0, 3, 3, 0, 1,\n",
       "       2, 1, 3, 0, 0, 1, 1, 1, 3, 2, 0, 0, 0, 2, 2, 0, 0, 2, 0, 2, 0, 0,\n",
       "       2, 2, 0, 2, 3, 0, 3, 2, 3, 1, 1, 0, 0, 2, 2, 0, 1, 2, 0, 1, 2, 2,\n",
       "       3, 1, 0, 1, 3, 2, 1, 1, 0, 3, 2, 3, 0, 2, 1, 1, 3, 2, 1, 0, 0, 2,\n",
       "       0, 2, 2, 3, 3, 2, 1, 0, 2, 3, 1, 1, 0, 1, 0, 3, 3, 2, 0, 2, 1, 2,\n",
       "       3, 1, 2, 1, 0, 1, 2, 2, 3, 2, 0, 0, 0, 2, 1, 3, 2, 1, 2, 3, 2, 0,\n",
       "       2, 2, 0, 0, 3, 3, 2, 0, 0, 2, 1, 0, 0, 0, 1, 2, 2, 1, 2, 0, 0, 0,\n",
       "       1, 0, 3, 0, 1, 2, 2, 0, 0, 0, 1, 1, 0, 2, 0, 3, 1, 2, 0, 0, 2, 0,\n",
       "       2, 2, 1, 2, 3, 0, 0, 2, 0, 0, 3, 1, 3, 1, 1, 1, 2, 0, 3, 2, 3, 2,\n",
       "       1, 2, 0, 2, 0, 1, 0, 0, 2, 1])"
      ]
     },
     "execution_count": 7,
     "metadata": {},
     "output_type": "execute_result"
    }
   ],
   "source": [
    "y_kmeans"
   ]
  },
  {
   "cell_type": "code",
   "execution_count": 8,
   "id": "8c0813f2",
   "metadata": {},
   "outputs": [
    {
     "data": {
      "text/plain": [
       "array([2, 2, 1, 3, 2, 2, 1, 3, 0, 3, 0, 3, 2, 2, 3, 2, 1, 3, 3, 0, 2, 2,\n",
       "       3, 2, 2, 2, 0, 2, 2, 0, 2, 0, 0, 3, 1, 1, 2, 0, 1, 0, 0, 0, 0, 0,\n",
       "       0, 0, 0, 2, 0, 1, 0, 2, 3, 1, 2, 3, 1, 0, 0, 3, 2, 3, 0, 2, 0, 0,\n",
       "       3, 0, 0, 3, 0, 0, 3, 0, 3, 3, 3, 2, 2, 0, 3, 3, 3, 2, 3, 2, 2, 2,\n",
       "       0, 2, 2, 3, 2, 3, 1, 2, 0, 2, 0, 0, 2, 2, 1, 0, 1, 0, 1, 0, 0, 2,\n",
       "       1, 0, 0, 0, 1, 1, 1, 1, 0, 0, 1, 1, 1, 0, 1, 1, 2, 2, 1, 3, 1, 3,\n",
       "       1, 2, 2, 0, 0, 0, 0, 0, 2, 0, 3, 3, 1, 3, 1, 2, 2, 1, 0, 2, 0, 3,\n",
       "       0, 2, 2, 0, 2, 0, 1, 1, 3, 0, 1, 1, 3, 2, 2, 2, 2, 1, 1, 0, 3, 1,\n",
       "       3, 2, 0, 1, 0, 0, 3, 2, 3, 0, 2, 0, 3, 1, 0, 2, 0, 2, 2, 0, 0, 0,\n",
       "       3, 2, 2, 2, 2, 0, 3, 2, 2, 1, 2, 0, 1, 3, 3, 0, 1, 1, 1, 3, 2, 0,\n",
       "       0, 1, 0, 1, 0, 3, 2, 0, 2, 1, 2, 3, 2, 1, 1, 2, 0, 0, 0, 1, 2, 1,\n",
       "       0, 0, 2, 1, 1, 0, 0, 0, 3, 2, 0, 1, 0, 2, 2, 2, 2, 2, 2, 2, 3, 1,\n",
       "       2, 3, 2, 2, 1, 2, 0, 0, 3, 2, 1, 1, 1, 0, 2, 0, 0, 3, 2, 2, 3, 1,\n",
       "       1, 2, 1, 2, 2, 1, 0, 2, 2, 0, 3, 2, 3, 1, 1, 0, 2, 2, 2, 2, 1, 3,\n",
       "       0, 0, 2, 0, 0, 2, 0, 2, 2, 2, 2, 0, 2, 1, 2, 3, 3, 1, 0, 3, 2, 3,\n",
       "       0, 3, 0, 1, 1, 0, 2, 3, 3, 3, 0, 2, 2, 2, 2, 2, 0, 1, 2, 1, 0, 0,\n",
       "       2, 3, 0, 2, 0, 0, 0, 1, 0, 1, 0, 3, 0, 0, 0, 0, 0, 2, 1, 0, 2, 1,\n",
       "       0, 3, 1, 1, 2, 0, 1, 1, 1, 3, 3, 2, 2, 2, 0, 2, 2, 2, 2, 0, 2, 3,\n",
       "       0, 1, 2, 0, 0, 3, 0, 1, 0, 2, 0, 1, 0, 1, 2, 1, 2, 0, 0, 2, 2, 2,\n",
       "       0, 0, 1, 0, 3, 2, 3, 0, 1, 2, 0, 0, 0, 2, 0, 0, 2, 3, 2, 2, 0, 1,\n",
       "       2, 2, 0, 2, 1, 2, 2, 1, 3, 2, 2, 1, 2, 0, 0, 3, 1, 0, 1, 2, 0, 0,\n",
       "       2, 1, 0, 1, 3, 2, 1, 1, 1, 0, 2, 0, 1, 2, 2, 2, 0, 2, 2, 0, 2, 0,\n",
       "       3, 2, 0, 2, 0, 1, 2, 0, 1, 1, 0, 0, 3, 2, 2, 2, 2, 1, 0, 1, 3, 1,\n",
       "       2, 0, 2, 1, 2, 0, 0, 0, 1, 1, 1, 2, 2, 2, 0, 1, 0, 0, 0, 0, 0, 3,\n",
       "       3, 2, 2, 3, 0, 1, 2, 2, 0, 0, 2, 1, 2, 1, 2, 1, 0, 1, 1, 2, 0, 2,\n",
       "       2, 1, 3, 2, 3, 3, 0, 0, 0, 2, 2, 2, 1, 2, 3, 3, 1, 0, 0, 2, 2, 1,\n",
       "       0, 0, 2, 3, 0, 1, 3, 0, 1, 2, 2, 2, 2, 2, 0, 0, 0, 0, 0, 0, 2, 2,\n",
       "       1, 2, 3, 0, 2, 2, 0, 3, 2, 0, 1, 2, 1, 3, 0, 0, 0, 0, 1, 2, 1, 0,\n",
       "       3, 1, 1, 2, 3, 0, 0, 1, 0, 1, 2, 0, 0, 3, 0, 2, 2, 1, 1, 2, 2, 1,\n",
       "       1, 2, 3, 1, 2, 2, 2, 2, 0, 0, 3, 2, 0, 2, 1, 2, 2, 0, 2, 2, 3, 1,\n",
       "       2, 2, 0, 2, 2, 0, 2, 1, 2, 2, 2, 0, 2, 2, 2, 0, 2, 2, 2, 0, 2, 0,\n",
       "       0, 3, 0, 1, 1, 2, 0, 1, 3, 2, 2, 2, 0, 1, 2, 0, 2, 0, 1, 0, 1, 0,\n",
       "       0, 2, 3, 0, 1, 3, 1, 1, 1, 1, 0, 1, 2, 1, 2, 1, 2, 0, 1, 3, 3, 2,\n",
       "       2, 0, 1, 3, 2, 3, 1, 3, 0, 0, 1, 0, 2, 0, 2, 3, 1, 0, 0, 2, 2, 0,\n",
       "       0, 1, 2, 2, 2, 1, 0, 1, 0, 2, 0, 2, 0, 0, 2, 0, 0, 2, 2, 2, 2, 0,\n",
       "       3, 2, 0, 2, 0, 0, 2, 3, 2, 1, 3, 1, 1, 0, 1, 3, 2, 3, 0, 0, 0, 0,\n",
       "       2, 1, 3, 0, 2, 2, 0, 0, 2, 2, 1, 1, 2, 2, 2, 3, 1, 0, 3, 3, 0, 1,\n",
       "       2, 1, 3, 0, 0, 1, 1, 1, 3, 2, 0, 0, 0, 2, 2, 0, 0, 2, 0, 2, 0, 0,\n",
       "       2, 2, 0, 2, 3, 0, 3, 2, 3, 1, 1, 0, 0, 2, 2, 0, 1, 2, 0, 1, 2, 2,\n",
       "       3, 1, 0, 1, 3, 2, 1, 1, 0, 3, 2, 3, 0, 2, 1, 1, 3, 2, 1, 0, 0, 2,\n",
       "       0, 2, 2, 3, 3, 2, 1, 0, 2, 3, 1, 1, 0, 1, 0, 3, 3, 2, 0, 2, 1, 2,\n",
       "       3, 1, 2, 1, 0, 1, 2, 2, 3, 2, 0, 0, 0, 2, 1, 3, 2, 1, 2, 3, 2, 0,\n",
       "       2, 2, 0, 0, 3, 3, 2, 0, 0, 2, 1, 0, 0, 0, 1, 2, 2, 1, 2, 0, 0, 0,\n",
       "       1, 0, 3, 0, 1, 2, 2, 0, 0, 0, 1, 1, 0, 2, 0, 3, 1, 2, 0, 0, 2, 0,\n",
       "       2, 2, 1, 2, 3, 0, 0, 2, 0, 0, 3, 1, 3, 1, 1, 1, 2, 0, 3, 2, 3, 2,\n",
       "       1, 2, 0, 2, 0, 1, 0, 0, 2, 1])"
      ]
     },
     "execution_count": 8,
     "metadata": {},
     "output_type": "execute_result"
    }
   ],
   "source": [
    "kmeans.labels_"
   ]
  },
  {
   "cell_type": "code",
   "execution_count": 9,
   "id": "674a4644",
   "metadata": {},
   "outputs": [
    {
     "data": {
      "text/plain": [
       "[<matplotlib.lines.Line2D at 0x17d25965a90>]"
      ]
     },
     "execution_count": 9,
     "metadata": {},
     "output_type": "execute_result"
    },
    {
     "data": {
      "image/png": "[encoded data removed]",
      "text/plain": [
       "<Figure size 432x288 with 1 Axes>"
      ]
     },
     "metadata": {
      "needs_background": "light"
     },
     "output_type": "display_data"
    }
   ],
   "source": [
    "ssd=[]\n",
    "range_n_clusters=[2,3,4,5,6,7,8]\n",
    "for num_clusters in range_n_clusters:\n",
    "    kmeans=KMeans(n_clusters=num_clusters, max_iter=50)\n",
    "    kmeans.fit(df)\n",
    "    \n",
    "    ssd.append(kmeans.inertia_)\n",
    "    \n",
    "plt.plot(ssd)"
   ]
  },
  {
   "cell_type": "code",
   "execution_count": 13,
   "id": "9a4a48c6",
   "metadata": {},
   "outputs": [
    {
     "name": "stdout",
     "output_type": "stream",
     "text": [
      "for n_clusters=2, the silhouette score is 0.471549058244814\n",
      "for n_clusters=3, the silhouette score is 0.4181463250829191\n",
      "for n_clusters=4, the silhouette score is 0.36321505039005164\n",
      "for n_clusters=5, the silhouette score is 0.3604022274652264\n",
      "for n_clusters=6, the silhouette score is 0.3422683557614948\n",
      "for n_clusters=7, the silhouette score is 0.35750129442849865\n",
      "for n_clusters=8, the silhouette score is 0.3698018695350265\n"
     ]
    }
   ],
   "source": [
    "range_n_clusters=[2,3,4,5,6,7,8]\n",
    "\n",
    "for num_clusters in range_n_clusters:\n",
    "    kmeans=KMeans(n_clusters=num_clusters, max_iter=50)\n",
    "    kmeans.fit(df)\n",
    "    \n",
    "    cluster_labels=kmeans.labels_\n",
    "    \n",
    "    silhouette_avg=silhouette_score(df, cluster_labels)\n",
    "    print(\"for n_clusters={0}, the silhouette score is {1}\".format(num_clusters, silhouette_avg))"
   ]
  },
  {
   "cell_type": "code",
   "execution_count": 14,
   "id": "d063f7bb",
   "metadata": {},
   "outputs": [
    {
     "data": {
      "text/plain": [
       "KMeans(max_iter=50, n_clusters=3)"
      ]
     },
     "execution_count": 14,
     "metadata": {},
     "output_type": "execute_result"
    }
   ],
   "source": [
    "kmeans=KMeans(n_clusters=3, max_iter=50)\n",
    "kmeans.fit(df)"
   ]
  },
  {
   "cell_type": "code",
   "execution_count": 15,
   "id": "7fa24398",
   "metadata": {},
   "outputs": [
    {
     "data": {
      "text/html": [
       "<div>\n",
       "<style scoped>\n",
       "    .dataframe tbody tr th:only-of-type {\n",
       "        vertical-align: middle;\n",
       "    }\n",
       "\n",
       "    .dataframe tbody tr th {\n",
       "        vertical-align: top;\n",
       "    }\n",
       "\n",
       "    .dataframe thead th {\n",
       "        text-align: right;\n",
       "    }\n",
       "</style>\n",
       "<table border=\"1\" class=\"dataframe\">\n",
       "  <thead>\n",
       "    <tr style=\"text-align: right;\">\n",
       "      <th></th>\n",
       "      <th>math score</th>\n",
       "      <th>reading score</th>\n",
       "      <th>Cluster_ID</th>\n",
       "    </tr>\n",
       "  </thead>\n",
       "  <tbody>\n",
       "    <tr>\n",
       "      <th>0</th>\n",
       "      <td>72</td>\n",
       "      <td>72</td>\n",
       "      <td>1</td>\n",
       "    </tr>\n",
       "    <tr>\n",
       "      <th>1</th>\n",
       "      <td>69</td>\n",
       "      <td>90</td>\n",
       "      <td>2</td>\n",
       "    </tr>\n",
       "    <tr>\n",
       "      <th>2</th>\n",
       "      <td>90</td>\n",
       "      <td>95</td>\n",
       "      <td>2</td>\n",
       "    </tr>\n",
       "    <tr>\n",
       "      <th>3</th>\n",
       "      <td>47</td>\n",
       "      <td>57</td>\n",
       "      <td>0</td>\n",
       "    </tr>\n",
       "    <tr>\n",
       "      <th>4</th>\n",
       "      <td>76</td>\n",
       "      <td>78</td>\n",
       "      <td>2</td>\n",
       "    </tr>\n",
       "  </tbody>\n",
       "</table>\n",
       "</div>"
      ],
      "text/plain": [
       "   math score  reading score  Cluster_ID\n",
       "0          72             72           1\n",
       "1          69             90           2\n",
       "2          90             95           2\n",
       "3          47             57           0\n",
       "4          76             78           2"
      ]
     },
     "execution_count": 15,
     "metadata": {},
     "output_type": "execute_result"
    }
   ],
   "source": [
    "df['Cluster_ID']=kmeans.labels_\n",
    "df.head()"
   ]
  },
  {
   "cell_type": "code",
   "execution_count": 18,
   "id": "4b32d498",
   "metadata": {},
   "outputs": [
    {
     "data": {
      "text/plain": [
       "<AxesSubplot:xlabel='Cluster_ID', ylabel='math score'>"
      ]
     },
     "execution_count": 18,
     "metadata": {},
     "output_type": "execute_result"
    },
    {
     "data": {
      "image/png": "[encoded data removed]",
      "text/plain": [
       "<Figure size 432x288 with 1 Axes>"
      ]
     },
     "metadata": {
      "needs_background": "light"
     },
     "output_type": "display_data"
    }
   ],
   "source": [
    "sns.boxplot(x='Cluster_ID', y='math score', data=df)"
   ]
  },
  {
   "cell_type": "code",
   "execution_count": 21,
   "id": "b413a3d7",
   "metadata": {},
   "outputs": [
    {
     "data": {
      "text/html": [
       "<div>\n",
       "<style scoped>\n",
       "    .dataframe tbody tr th:only-of-type {\n",
       "        vertical-align: middle;\n",
       "    }\n",
       "\n",
       "    .dataframe tbody tr th {\n",
       "        vertical-align: top;\n",
       "    }\n",
       "\n",
       "    .dataframe thead th {\n",
       "        text-align: right;\n",
       "    }\n",
       "</style>\n",
       "<table border=\"1\" class=\"dataframe\">\n",
       "  <thead>\n",
       "    <tr style=\"text-align: right;\">\n",
       "      <th></th>\n",
       "      <th>math score</th>\n",
       "      <th>reading score</th>\n",
       "      <th>Cluster_ID</th>\n",
       "    </tr>\n",
       "  </thead>\n",
       "  <tbody>\n",
       "    <tr>\n",
       "      <th>0</th>\n",
       "      <td>72</td>\n",
       "      <td>72</td>\n",
       "      <td>1</td>\n",
       "    </tr>\n",
       "    <tr>\n",
       "      <th>1</th>\n",
       "      <td>69</td>\n",
       "      <td>90</td>\n",
       "      <td>2</td>\n",
       "    </tr>\n",
       "    <tr>\n",
       "      <th>2</th>\n",
       "      <td>90</td>\n",
       "      <td>95</td>\n",
       "      <td>2</td>\n",
       "    </tr>\n",
       "    <tr>\n",
       "      <th>3</th>\n",
       "      <td>47</td>\n",
       "      <td>57</td>\n",
       "      <td>0</td>\n",
       "    </tr>\n",
       "    <tr>\n",
       "      <th>4</th>\n",
       "      <td>76</td>\n",
       "      <td>78</td>\n",
       "      <td>2</td>\n",
       "    </tr>\n",
       "  </tbody>\n",
       "</table>\n",
       "</div>"
      ],
      "text/plain": [
       "   math score  reading score  Cluster_ID\n",
       "0          72             72           1\n",
       "1          69             90           2\n",
       "2          90             95           2\n",
       "3          47             57           0\n",
       "4          76             78           2"
      ]
     },
     "execution_count": 21,
     "metadata": {},
     "output_type": "execute_result"
    }
   ],
   "source": [
    "df.head()"
   ]
  }
 ],
 "metadata": {
  "kernelspec": {
   "display_name": "Python 3",
   "language": "python",
   "name": "python3"
  },
  "language_info": {
   "codemirror_mode": {
    "name": "ipython",
    "version": 3
   },
   "file_extension": ".py",
   "mimetype": "text/x-python",
   "name": "python",
   "nbconvert_exporter": "python",
   "pygments_lexer": "ipython3",
   "version": "3.8.8"
  }
 },
 "nbformat": 4,
 "nbformat_minor": 5
}
